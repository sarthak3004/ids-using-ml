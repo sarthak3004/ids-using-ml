{
 "cells": [
  {
   "cell_type": "code",
   "execution_count": 1,
   "id": "c33239bc",
   "metadata": {},
   "outputs": [],
   "source": [
    "from sklearn.metrics import accuracy_score # for calculating accuracy of model\n",
    "from sklearn.model_selection import train_test_split # for splitting the dataset for training and testing\n",
    "from sklearn.metrics import classification_report # for generating a classification report of model\n",
    "import pickle # saving and loading trained model\n",
    "from os import path\n",
    "import numpy as np\n",
    "import pandas as pd\n",
    "import matplotlib.pyplot as plt\n",
    "import time"
   ]
  },
  {
   "cell_type": "markdown",
   "id": "5c7eff0a",
   "metadata": {},
   "source": [
    "# Training and Testing (Binary Classification)"
   ]
  },
  {
   "cell_type": "code",
   "execution_count": 2,
   "id": "3d63740f",
   "metadata": {},
   "outputs": [],
   "source": [
    "bin_data = pd.read_csv('datasets/bin_data.csv')\n",
    "bin_data.drop(bin_data.columns[0],axis=1,inplace=True)\n",
    "le1_classes_ = np.load('le1_classes.npy',allow_pickle=True)"
   ]
  },
  {
   "cell_type": "code",
   "execution_count": 3,
   "id": "1f6fc1ac",
   "metadata": {},
   "outputs": [],
   "source": [
    "X = bin_data.iloc[:,0:93].to_numpy() # dataset excluding target attribute (encoded, one-hot-encoded,original)\n",
    "Y = bin_data['intrusion'] # target attribute"
   ]
  },
  {
   "cell_type": "code",
   "execution_count": 4,
   "id": "ee5b5579",
   "metadata": {},
   "outputs": [],
   "source": [
    "# splitting the dataset 75% for training and 25% testing\n",
    "X_train, X_test, y_train, y_test = train_test_split(X,Y, test_size=0.25, random_state=42)"
   ]
  },
  {
   "cell_type": "markdown",
   "id": "779bf59c",
   "metadata": {},
   "source": [
    "# KNN (Binary Classification)"
   ]
  },
  {
   "cell_type": "code",
   "execution_count": 5,
   "id": "ef389c57",
   "metadata": {},
   "outputs": [],
   "source": [
    "# importing library for K-neares-neighbor classifier\n",
    "from sklearn.neighbors import KNeighborsClassifier"
   ]
  },
  {
   "cell_type": "code",
   "execution_count": 6,
   "id": "3271e96a",
   "metadata": {},
   "outputs": [
    {
     "name": "stdout",
     "output_type": "stream",
     "text": [
      "\n",
      "\n",
      "For 5 Number of Neighbours\n",
      "Training time:  0.054538726806640625\n",
      "Testing time:  140.53263688087463\n",
      "KNN-Classifier Binary Set-Accuracy is  98.56798120276878\n",
      "\n",
      "\n",
      "For 6 Number of Neighbours\n",
      "Training time:  0.030541658401489258\n",
      "Testing time:  139.97447228431702\n",
      "KNN-Classifier Binary Set-Accuracy is  98.50447704324633\n",
      "\n",
      "\n",
      "For 7 Number of Neighbours\n",
      "Training time:  0.03000330924987793\n",
      "Testing time:  140.06004786491394\n",
      "KNN-Classifier Binary Set-Accuracy is  98.59655807455388\n",
      "\n",
      "\n",
      "For 8 Number of Neighbours\n",
      "Training time:  0.03611636161804199\n",
      "Testing time:  127.25890278816223\n",
      "KNN-Classifier Binary Set-Accuracy is  98.54257953895981\n",
      "\n",
      "\n",
      "For 9 Number of Neighbours\n",
      "Training time:  0.01795482635498047\n",
      "Testing time:  73.62143611907959\n",
      "KNN-Classifier Binary Set-Accuracy is  98.56163078681654\n",
      "\n",
      "\n",
      "For 10 Number of Neighbours\n",
      "Training time:  0.015646934509277344\n",
      "Testing time:  69.87210750579834\n",
      "KNN-Classifier Binary Set-Accuracy is  98.52035308312695\n",
      "\n",
      "\n",
      "For 11 Number of Neighbours\n",
      "Training time:  0.015621662139892578\n",
      "Testing time:  69.17587614059448\n",
      "KNN-Classifier Binary Set-Accuracy is  98.54575474693593\n",
      "\n",
      "\n",
      "For 12 Number of Neighbours\n",
      "Training time:  0.01562190055847168\n",
      "Testing time:  71.06561255455017\n",
      "KNN-Classifier Binary Set-Accuracy is  98.51082745919858\n",
      "\n",
      "\n",
      "For 13 Number of Neighbours\n",
      "Training time:  0.015591144561767578\n",
      "Testing time:  71.33322596549988\n",
      "KNN-Classifier Binary Set-Accuracy is  98.52035308312695\n",
      "\n",
      "\n",
      "For 14 Number of Neighbours\n",
      "Training time:  0.015960216522216797\n",
      "Testing time:  72.42605233192444\n",
      "KNN-Classifier Binary Set-Accuracy is  98.52352829110306\n",
      "\n",
      "\n",
      "For 15 Number of Neighbours\n",
      "Training time:  0.015579700469970703\n",
      "Testing time:  79.0856294631958\n",
      "KNN-Classifier Binary Set-Accuracy is  98.50447704324633\n",
      "{5: 0.014320187972312187, 6: 0.014955229567536674, 7: 0.014034419254461167, 8: 0.014574204610401981, 9: 0.014383692131834635, 10: 0.014796469168730552, 11: 0.014542452530640756, 12: 0.014891725408014225, 13: 0.014796469168730552, 14: 0.014764717088969327, 15: 0.014955229567536674}\n"
     ]
    }
   ],
   "source": [
    "knn_dict={}\n",
    "knn_bin_acc_score_list=[]\n",
    "for i in range(5,16):\n",
    "    knn=KNeighborsClassifier(n_neighbors=i)\n",
    "    print(\"\\n\\nFor {} Number of Neighbours\".format(i))\n",
    "    start_time = time.time()\n",
    "    knn.fit(X_train,y_train) # training model on training dataset\n",
    "    end_time = time.time()\n",
    "    print(\"Training time: \", end_time-start_time)\n",
    "    start_time = time.time()\n",
    "    y_pred=knn.predict(X_test) # predicting target attribute on testing dataset\n",
    "    end_time = time.time()\n",
    "    print(\"Testing time: \", end_time-start_time)\n",
    "    knn_bin_acc_score=accuracy_score(y_test, y_pred)*100 # calculating accuracy of predicted data\n",
    "    knn_bin_acc_score_list.append( knn_bin_acc_score)\n",
    "    print(\"KNN-Classifier Binary Set-Accuracy is \", knn_bin_acc_score)\n",
    "    knn_dict[i]=np.mean(y_pred != y_test)\n",
    "print(knn_dict)\n",
    "    \n"
   ]
  },
  {
   "cell_type": "code",
   "execution_count": 9,
   "id": "dba27b12",
   "metadata": {
    "scrolled": true
   },
   "outputs": [
    {
     "data": {
      "image/png": "[encoded data removed]",
      "text/plain": [
       "<Figure size 432x288 with 1 Axes>"
      ]
     },
     "metadata": {
      "needs_background": "light"
     },
     "output_type": "display_data"
    },
    {
     "name": "stdout",
     "output_type": "stream",
     "text": [
      "Minimum error: 0.014034419254461167 at K = 7\n"
     ]
    },
    {
     "data": {
      "image/png": "[encoded data removed]",
      "text/plain": [
       "<Figure size 432x288 with 1 Axes>"
      ]
     },
     "metadata": {
      "needs_background": "light"
     },
     "output_type": "display_data"
    },
    {
     "name": "stdout",
     "output_type": "stream",
     "text": [
      "Accuracy Score: 98.59655807455388 at K = 7\n"
     ]
    }
   ],
   "source": [
    "nearest_neighbours = list(knn_dict.keys())\n",
    "error = list(knn_dict.values())\n",
    "plt.bar(nearest_neighbours, error)\n",
    "plt.xlabel(\"No. of nearest neighbours\")\n",
    "plt.ylabel(\"Error %\")\n",
    "plt.title(\"Error% vs No. of Nearest Neighbours(Binary)\")\n",
    "plt.show()\n",
    "optimal_neighbour=error.index(min(error))\n",
    "print(\"Minimum error:\",min(error),\"at K =\",nearest_neighbours[optimal_neighbour])\n",
    "plt.bar(nearest_neighbours, knn_bin_acc_score_list)\n",
    "plt.xlabel(\"No. of nearest neighbours\")\n",
    "plt.ylabel(\"Accuracy Score\")\n",
    "plt.title(\"Accuracy Score vs No. of Nearest Neighbours(Binary)\")\n",
    "plt.show()\n",
    "print(\"Accuracy Score:\",knn_bin_acc_score_list[optimal_neighbour],\"at K =\",nearest_neighbours[optimal_neighbour])\n",
    "knn_ac=knn_bin_acc_score_list[optimal_neighbour]"
   ]
  },
  {
   "cell_type": "markdown",
   "id": "f0b1ce3b",
   "metadata": {},
   "source": [
    "# LSVM (Binary Classfication)"
   ]
  },
  {
   "cell_type": "code",
   "execution_count": 10,
   "id": "48fde16b",
   "metadata": {},
   "outputs": [],
   "source": [
    "from sklearn.svm import SVC"
   ]
  },
  {
   "cell_type": "code",
   "execution_count": 11,
   "id": "cb04d04b",
   "metadata": {},
   "outputs": [
    {
     "name": "stdout",
     "output_type": "stream",
     "text": [
      "Training time:  232.31767582893372\n"
     ]
    }
   ],
   "source": [
    "# using kernel as linear \n",
    "lsvm = SVC(kernel='linear',gamma='auto') \n",
    "start_time = time.time()\n",
    "lsvm.fit(X_train, y_train)\n",
    "end_time = time.time()\n",
    "print(\"Training time: \", end_time-start_time)"
   ]
  },
  {
   "cell_type": "code",
   "execution_count": 12,
   "id": "ea945500",
   "metadata": {},
   "outputs": [
    {
     "name": "stdout",
     "output_type": "stream",
     "text": [
      "Testing time:  11.444276094436646\n"
     ]
    }
   ],
   "source": [
    "start_time = time.time()\n",
    "y_pred = lsvm.predict(X_test) # predicting target attribute on testing dataset\n",
    "end_time = time.time()\n",
    "print(\"Testing time: \", end_time-start_time)"
   ]
  },
  {
   "cell_type": "code",
   "execution_count": 13,
   "id": "d65edad9",
   "metadata": {},
   "outputs": [
    {
     "name": "stdout",
     "output_type": "stream",
     "text": [
      "Train score is: 0.9670614633939817\n",
      "Test score is: 0.9669778370483266\n"
     ]
    }
   ],
   "source": [
    "print(\"Train score is:\", lsvm.score(X_train, y_train))\n",
    "print(\"Test score is:\", lsvm.score(X_test, y_test))"
   ]
  },
  {
   "cell_type": "code",
   "execution_count": 14,
   "id": "6db7261b",
   "metadata": {},
   "outputs": [
    {
     "name": "stdout",
     "output_type": "stream",
     "text": [
      "LSVM-Classifier Binary Set-Accuracy is  96.69778370483266\n"
     ]
    }
   ],
   "source": [
    "lsvm_ac = accuracy_score(y_test, y_pred)*100 # calculating accuracy of predicted data\n",
    "print(\"LSVM-Classifier Binary Set-Accuracy is \", lsvm_ac)"
   ]
  },
  {
   "cell_type": "markdown",
   "id": "97f8b58d",
   "metadata": {},
   "source": [
    "# Random Forest (Binary Classfication)"
   ]
  },
  {
   "cell_type": "code",
   "execution_count": 15,
   "id": "0cf30172",
   "metadata": {},
   "outputs": [
    {
     "name": "stdout",
     "output_type": "stream",
     "text": [
      "Training Time of Random Forest is:  3.5127363204956055\n"
     ]
    }
   ],
   "source": [
    "from sklearn.ensemble import RandomForestClassifier\n",
    "\n",
    "rfv = RandomForestClassifier(n_estimators=30)\n",
    "start_timeRF = time.time()\n",
    "rfv.fit(X_train, y_train)\n",
    "end_timeRF = time.time()\n",
    "print(\"Training Time of Random Forest is: \", end_timeRF - start_timeRF)"
   ]
  },
  {
   "cell_type": "code",
   "execution_count": 16,
   "id": "3a79b29e",
   "metadata": {},
   "outputs": [
    {
     "name": "stdout",
     "output_type": "stream",
     "text": [
      "Testing time of Random Forest is::  0.1270592212677002\n"
     ]
    }
   ],
   "source": [
    "start_time = time.time()\n",
    "y_pred=rfv.predict(X_test) \n",
    "end_time = time.time()\n",
    "print(\"Testing time of Random Forest is:: \", end_time-start_time)"
   ]
  },
  {
   "cell_type": "code",
   "execution_count": 17,
   "id": "7e1ae4e5",
   "metadata": {},
   "outputs": [
    {
     "name": "stdout",
     "output_type": "stream",
     "text": [
      "Accuracy score of Random Forest is: 98.70451514574205\n"
     ]
    }
   ],
   "source": [
    "rf_ac=accuracy_score(y_test, y_pred)*100\n",
    "print(\"Accuracy score of Random Forest is:\", rf_ac)"
   ]
  },
  {
   "cell_type": "markdown",
   "id": "02f9f454",
   "metadata": {},
   "source": [
    "# Gaussian Naive Bayes (Binary Classfication)"
   ]
  },
  {
   "cell_type": "code",
   "execution_count": 18,
   "id": "99a7cd55",
   "metadata": {},
   "outputs": [
    {
     "name": "stdout",
     "output_type": "stream",
     "text": [
      "Training time:  0.194990873336792\n"
     ]
    }
   ],
   "source": [
    "from sklearn.naive_bayes import GaussianNB\n",
    "from sklearn.metrics import accuracy_score\n",
    "\n",
    "gnb = GaussianNB()\n",
    "start_time = time.time()\n",
    "gnb.fit(X_train, y_train.values.ravel())\n",
    "end_time = time.time()\n",
    "print(\"Training time: \", end_time-start_time)"
   ]
  },
  {
   "cell_type": "code",
   "execution_count": 19,
   "id": "9ba6df90",
   "metadata": {},
   "outputs": [
    {
     "name": "stdout",
     "output_type": "stream",
     "text": [
      "Testing time:  0.08576679229736328\n"
     ]
    }
   ],
   "source": [
    "start_time = time.time()\n",
    "y_pred = gnb.predict(X_test) # predicting target attribute on testing dataset\n",
    "end_time = time.time()\n",
    "print(\"Testing time: \", end_time-start_time)"
   ]
  },
  {
   "cell_type": "code",
   "execution_count": 20,
   "id": "d36c4df2",
   "metadata": {},
   "outputs": [
    {
     "name": "stdout",
     "output_type": "stream",
     "text": [
      "Train score is: 0.8442722721451328\n",
      "Test score is: 0.8432717342985966\n"
     ]
    }
   ],
   "source": [
    "print(\"Train score is:\", gnb.score(X_train, y_train))\n",
    "print(\"Test score is:\", gnb.score(X_test, y_test))"
   ]
  },
  {
   "cell_type": "code",
   "execution_count": 21,
   "id": "6a5b8380",
   "metadata": {},
   "outputs": [
    {
     "name": "stdout",
     "output_type": "stream",
     "text": [
      "GaussianNaiveBayes-Classifier Binary Set-Accuracy is  84.32717342985966\n"
     ]
    }
   ],
   "source": [
    "gnb_ac = accuracy_score(y_test, y_pred)*100 # calculating accuracy of predicted data\n",
    "print(\"GaussianNaiveBayes-Classifier Binary Set-Accuracy is \", gnb_ac)"
   ]
  },
  {
   "cell_type": "markdown",
   "id": "e9dc96b8",
   "metadata": {},
   "source": [
    "# Decision Tree (Binary Classfication)"
   ]
  },
  {
   "cell_type": "code",
   "execution_count": 22,
   "id": "c45cfdb2",
   "metadata": {},
   "outputs": [
    {
     "name": "stdout",
     "output_type": "stream",
     "text": [
      "Training time:  0.7130739688873291\n"
     ]
    }
   ],
   "source": [
    "from sklearn.tree import DecisionTreeClassifier\n",
    "\n",
    "dt = DecisionTreeClassifier(criterion =\"entropy\", max_depth = 4)\n",
    "start_time = time.time()\n",
    "dt.fit(X_train, y_train.values.ravel())\n",
    "end_time = time.time()\n",
    "print(\"Training time: \", end_time-start_time)"
   ]
  },
  {
   "cell_type": "code",
   "execution_count": 23,
   "id": "12eabd1c",
   "metadata": {},
   "outputs": [
    {
     "name": "stdout",
     "output_type": "stream",
     "text": [
      "Testing time:  0.014960765838623047\n"
     ]
    }
   ],
   "source": [
    "start_time = time.time()\n",
    "y_pred = dt.predict(X_test) # predicting target attribute on testing dataset\n",
    "end_time = time.time()\n",
    "print(\"Testing time: \", end_time-start_time)"
   ]
  },
  {
   "cell_type": "code",
   "execution_count": 24,
   "id": "feb006bc",
   "metadata": {},
   "outputs": [
    {
     "name": "stdout",
     "output_type": "stream",
     "text": [
      "Train score is: 0.9591231913970301\n",
      "Test score is: 0.9583412713532736\n"
     ]
    }
   ],
   "source": [
    "print(\"Train score is:\", dt.score(X_train, y_train))\n",
    "print(\"Test score is:\", dt.score(X_test, y_test))"
   ]
  },
  {
   "cell_type": "code",
   "execution_count": 25,
   "id": "8e58959f",
   "metadata": {},
   "outputs": [
    {
     "name": "stdout",
     "output_type": "stream",
     "text": [
      "DecisionTree-Classifier Binary Set-Accuracy is  95.83412713532736\n"
     ]
    }
   ],
   "source": [
    "dt_ac = accuracy_score(y_test, y_pred)*100 # calculating accuracy of predicted data\n",
    "print(\"DecisionTree-Classifier Binary Set-Accuracy is \", dt_ac)"
   ]
  },
  {
   "cell_type": "markdown",
   "id": "c3c9302d",
   "metadata": {},
   "source": [
    "# Logistic Regression (Binary Classfication)"
   ]
  },
  {
   "cell_type": "code",
   "execution_count": 26,
   "id": "be128062",
   "metadata": {},
   "outputs": [
    {
     "name": "stdout",
     "output_type": "stream",
     "text": [
      "Training time:  4.894774436950684\n"
     ]
    }
   ],
   "source": [
    "from sklearn.linear_model import LogisticRegression\n",
    "\n",
    "lr = LogisticRegression(max_iter = 1200000)\n",
    "start_time = time.time()\n",
    "lr.fit(X_train, y_train.values.ravel())\n",
    "end_time = time.time()\n",
    "print(\"Training time: \", end_time-start_time)"
   ]
  },
  {
   "cell_type": "code",
   "execution_count": 27,
   "id": "ec7d878c",
   "metadata": {},
   "outputs": [
    {
     "name": "stdout",
     "output_type": "stream",
     "text": [
      "Testing time:  0.015619039535522461\n"
     ]
    }
   ],
   "source": [
    "start_time = time.time()\n",
    "y_pred = lr.predict(X_test) # predicting target attribute on testing dataset\n",
    "end_time = time.time()\n",
    "print(\"Testing time: \", end_time-start_time)"
   ]
  },
  {
   "cell_type": "code",
   "execution_count": 28,
   "id": "4baed5e8",
   "metadata": {},
   "outputs": [
    {
     "name": "stdout",
     "output_type": "stream",
     "text": [
      "Train score is: 0.9700145005768478\n",
      "Test score is: 0.969708515907792\n"
     ]
    }
   ],
   "source": [
    "print(\"Train score is:\", lr.score(X_train, y_train))\n",
    "print(\"Test score is:\", lr.score(X_test, y_test))"
   ]
  },
  {
   "cell_type": "code",
   "execution_count": 29,
   "id": "d1d3d8e7",
   "metadata": {},
   "outputs": [
    {
     "name": "stdout",
     "output_type": "stream",
     "text": [
      "LogisticRegression-Classifier Binary Set-Accuracy is  96.97085159077919\n"
     ]
    }
   ],
   "source": [
    "lr_ac = accuracy_score(y_test, y_pred)*100 # calculating accuracy of predicted data\n",
    "print(\"LogisticRegression-Classifier Binary Set-Accuracy is \", lr_ac)"
   ]
  },
  {
   "cell_type": "markdown",
   "id": "876c2066",
   "metadata": {},
   "source": [
    "# Comparision (Binary Classfication)"
   ]
  },
  {
   "cell_type": "code",
   "execution_count": 30,
   "id": "23107f6a",
   "metadata": {},
   "outputs": [
    {
     "data": {
      "image/png": "[encoded data removed]",
      "text/plain": [
       "<Figure size 432x288 with 1 Axes>"
      ]
     },
     "metadata": {
      "needs_background": "light"
     },
     "output_type": "display_data"
    }
   ],
   "source": [
    "names = ['LSVM', 'RF', 'GNB', 'DT', 'LR','KNN']\n",
    "values = [lsvm_ac,rf_ac,gnb_ac,dt_ac,lr_ac,knn_ac]\n",
    "plt.bar(names, values)\n",
    "plt.xlabel(\"Classifying Algorithm\")\n",
    "plt.ylabel(\"Accuracy Score\")\n",
    "plt.title(\"Accuracy Score vs Algorithm used(Binary)\")\n",
    "plt.show()"
   ]
  },
  {
   "cell_type": "markdown",
   "id": "dfaf84e4",
   "metadata": {},
   "source": [
    "# Training and Testing (Multi-class Classification)"
   ]
  },
  {
   "cell_type": "code",
   "execution_count": 31,
   "id": "8e07bbff",
   "metadata": {},
   "outputs": [],
   "source": [
    "multi_data = pd.read_csv('datasets/multi_data.csv')\n",
    "multi_data.drop(multi_data.columns[0],axis=1,inplace=True)\n",
    "le2_classes_ = np.load('le2_classes.npy',allow_pickle=True)"
   ]
  },
  {
   "cell_type": "code",
   "execution_count": 32,
   "id": "51a3250d",
   "metadata": {},
   "outputs": [],
   "source": [
    "X = multi_data.iloc[:,0:93].to_numpy()\n",
    "Y = multi_data['intrusion'] # target attribute\n",
    "X_train, X_test, y_train, y_test = train_test_split(X,Y, test_size=0.25, random_state=42)"
   ]
  },
  {
   "cell_type": "markdown",
   "id": "144dff61",
   "metadata": {},
   "source": [
    "# KNN (Multi-class Classification)"
   ]
  },
  {
   "cell_type": "code",
   "execution_count": 33,
   "id": "7117ead4",
   "metadata": {},
   "outputs": [
    {
     "name": "stdout",
     "output_type": "stream",
     "text": [
      "\n",
      "\n",
      "For 5 Number of Neighbours\n",
      "Training time:  0.019990205764770508\n",
      "Testing time:  71.13731646537781\n",
      "KNN-Classifier Multi-class Set-Accuracy is  98.2599860290849\n",
      "\n",
      "\n",
      "For 6 Number of Neighbours\n",
      "Training time:  0.015659809112548828\n",
      "Testing time:  74.80885910987854\n",
      "KNN-Classifier Multi-class Set-Accuracy is  98.15202895789675\n",
      "\n",
      "\n",
      "For 7 Number of Neighbours\n",
      "Training time:  0.01562190055847168\n",
      "Testing time:  72.06326985359192\n",
      "KNN-Classifier Multi-class Set-Accuracy is  98.28221248491776\n",
      "\n",
      "\n",
      "For 8 Number of Neighbours\n",
      "Training time:  0.015620231628417969\n",
      "Testing time:  72.76403522491455\n",
      "KNN-Classifier Multi-class Set-Accuracy is  98.21870832539531\n",
      "\n",
      "\n",
      "For 9 Number of Neighbours\n",
      "Training time:  0.015622377395629883\n",
      "Testing time:  73.01456117630005\n",
      "KNN-Classifier Multi-class Set-Accuracy is  98.20600749349082\n",
      "\n",
      "\n",
      "For 10 Number of Neighbours\n",
      "Training time:  0.015589237213134766\n",
      "Testing time:  74.50749492645264\n",
      "KNN-Classifier Multi-class Set-Accuracy is  98.1901314536102\n",
      "\n",
      "\n",
      "For 11 Number of Neighbours\n",
      "Training time:  0.031232118606567383\n",
      "Testing time:  76.08848834037781\n",
      "KNN-Classifier Multi-class Set-Accuracy is  98.23458436527592\n",
      "\n",
      "\n",
      "For 12 Number of Neighbours\n",
      "Training time:  0.03104877471923828\n",
      "Testing time:  74.6996066570282\n",
      "KNN-Classifier Multi-class Set-Accuracy is  98.1901314536102\n",
      "\n",
      "\n",
      "For 13 Number of Neighbours\n",
      "Training time:  0.015630722045898438\n",
      "Testing time:  77.27033257484436\n",
      "KNN-Classifier Multi-class Set-Accuracy is  98.19648186956246\n",
      "\n",
      "\n",
      "For 14 Number of Neighbours\n",
      "Training time:  0.018000125885009766\n",
      "Testing time:  75.8512282371521\n",
      "KNN-Classifier Multi-class Set-Accuracy is  98.22505874134755\n",
      "\n",
      "\n",
      "For 15 Number of Neighbours\n",
      "Training time:  0.01563119888305664\n",
      "Testing time:  74.98105597496033\n",
      "KNN-Classifier Multi-class Set-Accuracy is  98.21235790944307\n",
      "{5: 0.017400139709150948, 6: 0.018479710421032577, 7: 0.017177875150822378, 8: 0.017812916746046865, 9: 0.017939925065091764, 10: 0.018098685463897885, 11: 0.017654156347240744, 12: 0.018098685463897885, 13: 0.018035181304375435, 14: 0.01774941258652442, 15: 0.017876420905569314}\n"
     ]
    }
   ],
   "source": [
    "knn_dict={}\n",
    "knn_multi_acc_score_list=[]\n",
    "for i in range(5,16):\n",
    "    knn=KNeighborsClassifier(n_neighbors=i)\n",
    "    print(\"\\n\\nFor {} Number of Neighbours\".format(i))\n",
    "    start_time = time.time()\n",
    "    knn.fit(X_train,y_train) # training model on training dataset\n",
    "    end_time = time.time()\n",
    "    print(\"Training time: \", end_time-start_time)\n",
    "    start_time = time.time()\n",
    "    y_pred=knn.predict(X_test)\n",
    "    end_time = time.time()\n",
    "    print(\"Testing time: \", end_time-start_time)\n",
    "    knn_multi_acc_score=accuracy_score(y_test, y_pred)*100\n",
    "    knn_multi_acc_score_list.append( knn_multi_acc_score)\n",
    "    print(\"KNN-Classifier Multi-class Set-Accuracy is \",knn_multi_acc_score)\n",
    "    knn_dict[i]=np.mean(y_pred != y_test)    \n",
    "print(knn_dict)"
   ]
  },
  {
   "cell_type": "code",
   "execution_count": 34,
   "id": "b21192ba",
   "metadata": {},
   "outputs": [
    {
     "data": {
      "image/png": "[encoded data removed]",
      "text/plain": [
       "<Figure size 432x288 with 1 Axes>"
      ]
     },
     "metadata": {
      "needs_background": "light"
     },
     "output_type": "display_data"
    },
    {
     "name": "stdout",
     "output_type": "stream",
     "text": [
      "Minimum error: 0.017177875150822378 at K = 7\n"
     ]
    },
    {
     "data": {
      "image/png": "[encoded data removed]",
      "text/plain": [
       "<Figure size 432x288 with 1 Axes>"
      ]
     },
     "metadata": {
      "needs_background": "light"
     },
     "output_type": "display_data"
    },
    {
     "name": "stdout",
     "output_type": "stream",
     "text": [
      "Accuracy Score: 98.28221248491776 at K = 7\n"
     ]
    }
   ],
   "source": [
    "nearest_neighbours = list(knn_dict.keys())\n",
    "error = list(knn_dict.values())\n",
    "plt.bar(nearest_neighbours, error)\n",
    "plt.xlabel(\"No. of nearest neighbours\")\n",
    "plt.ylabel(\"Error %\")\n",
    "plt.title(\"Error% vs No. of Nearest Neighbours(Multiclass)\")\n",
    "plt.show()\n",
    "optimal_neighbour=error.index(min(error))\n",
    "print(\"Minimum error:\",min(error),\"at K =\",nearest_neighbours[optimal_neighbour])\n",
    "plt.bar(nearest_neighbours, knn_multi_acc_score_list)\n",
    "plt.xlabel(\"No. of nearest neighbours\")\n",
    "plt.ylabel(\"Accuracy Score\")\n",
    "plt.title(\"Accuracy Score vs No. of Nearest Neighbours(Multi)\")\n",
    "plt.show()\n",
    "print(\"Accuracy Score:\",knn_multi_acc_score_list[optimal_neighbour],\"at K =\",nearest_neighbours[optimal_neighbour])\n"
   ]
  },
  {
   "cell_type": "markdown",
   "id": "c0431f01",
   "metadata": {},
   "source": [
    "# Logistic Regression (Multi-class Classification)"
   ]
  },
  {
   "cell_type": "code",
   "execution_count": 35,
   "id": "b6c4c69d",
   "metadata": {},
   "outputs": [
    {
     "name": "stdout",
     "output_type": "stream",
     "text": [
      "Training time:  27.364960432052612\n"
     ]
    }
   ],
   "source": [
    "from sklearn.linear_model import LogisticRegression\n",
    "\n",
    "lr = LogisticRegression(max_iter = 1200000,multi_class='multinomial', solver='lbfgs')\n",
    "start_time = time.time()\n",
    "lr.fit(X_train, y_train.values.ravel())\n",
    "end_time = time.time()\n",
    "print(\"Training time: \", end_time-start_time)"
   ]
  },
  {
   "cell_type": "code",
   "execution_count": 36,
   "id": "4d8411d6",
   "metadata": {},
   "outputs": [
    {
     "name": "stdout",
     "output_type": "stream",
     "text": [
      "Testing time:  0.013933420181274414\n"
     ]
    }
   ],
   "source": [
    "start_time = time.time()\n",
    "y_pred = lr.predict(X_test)\n",
    "end_time = time.time()\n",
    "print(\"Testing time: \", end_time-start_time)"
   ]
  },
  {
   "cell_type": "code",
   "execution_count": 37,
   "id": "cd73de81",
   "metadata": {},
   "outputs": [
    {
     "name": "stdout",
     "output_type": "stream",
     "text": [
      "Train score is: 0.9549952899586152\n",
      "Test score is: 0.9542135009843145\n"
     ]
    }
   ],
   "source": [
    "print(\"Train score is:\", lr.score(X_train, y_train))\n",
    "print(\"Test score is:\", lr.score(X_test, y_test))"
   ]
  },
  {
   "cell_type": "code",
   "execution_count": 38,
   "id": "f7bed136",
   "metadata": {},
   "outputs": [
    {
     "name": "stdout",
     "output_type": "stream",
     "text": [
      "LogisticRegression-Classifier Set-Accuracy is  95.42135009843145\n"
     ]
    }
   ],
   "source": [
    "lr_ac = accuracy_score(y_test, y_pred)*100 # calculating accuracy of predicted data\n",
    "print(\"LogisticRegression-Classifier Set-Accuracy is \", lr_ac)"
   ]
  },
  {
   "cell_type": "markdown",
   "id": "855e78f1",
   "metadata": {},
   "source": [
    "# Gaussian Naive-Bayes (Multi-class Classification)"
   ]
  },
  {
   "cell_type": "code",
   "execution_count": 39,
   "id": "0641d763",
   "metadata": {},
   "outputs": [
    {
     "name": "stdout",
     "output_type": "stream",
     "text": [
      "Training time:  0.34679150581359863\n"
     ]
    }
   ],
   "source": [
    "from sklearn.naive_bayes import GaussianNB\n",
    "start_time = time.time()\n",
    "gnb = GaussianNB().fit(X_train, y_train)\n",
    "gnb_predictions = gnb.predict(X_test)\n",
    "end_time = time.time()\n",
    "print(\"Training time: \", end_time-start_time)"
   ]
  },
  {
   "cell_type": "code",
   "execution_count": 40,
   "id": "cbf15bd5",
   "metadata": {},
   "outputs": [
    {
     "name": "stdout",
     "output_type": "stream",
     "text": [
      "Testing time:  0.5343267917633057\n"
     ]
    }
   ],
   "source": [
    "start_time = time.time()\n",
    "y_test_pred = gnb.predict(X_train)\n",
    "end_time = time.time()\n",
    "print(\"Testing time: \", end_time-start_time)"
   ]
  },
  {
   "cell_type": "code",
   "execution_count": 41,
   "id": "c8f897cf",
   "metadata": {},
   "outputs": [
    {
     "name": "stdout",
     "output_type": "stream",
     "text": [
      "Train score is: 0.6496681802305274\n",
      "Test score is: 0.6491395186384709\n"
     ]
    }
   ],
   "source": [
    "print(\"Train score is:\", gnb.score(X_train, y_train))\n",
    "print(\"Test score is:\", gnb.score(X_test, y_test))"
   ]
  },
  {
   "cell_type": "code",
   "execution_count": 42,
   "id": "24490bdd",
   "metadata": {},
   "outputs": [
    {
     "name": "stdout",
     "output_type": "stream",
     "text": [
      "GaussianNaiveBayes-Classifier Set-Accuracy is  95.42135009843145\n"
     ]
    }
   ],
   "source": [
    "gnb_ac = accuracy_score(y_test, y_pred)*100 # calculating accuracy of predicted data\n",
    "print(\"GaussianNaiveBayes-Classifier Set-Accuracy is \", gnb_ac)"
   ]
  },
  {
   "cell_type": "markdown",
   "id": "479bb92e",
   "metadata": {},
   "source": [
    "# Decision Tree (Multi-class Classification)"
   ]
  },
  {
   "cell_type": "code",
   "execution_count": 43,
   "id": "4ba79c2f",
   "metadata": {},
   "outputs": [
    {
     "name": "stdout",
     "output_type": "stream",
     "text": [
      "Training time:  0.5914516448974609\n"
     ]
    }
   ],
   "source": [
    "from sklearn.tree import DecisionTreeClassifier\n",
    "dt = DecisionTreeClassifier(criterion =\"entropy\", max_depth = 4)\n",
    "start_time = time.time()\n",
    "dt.fit(X_train, y_train.values.ravel())\n",
    "end_time = time.time()\n",
    "print(\"Training time: \", end_time-start_time)"
   ]
  },
  {
   "cell_type": "code",
   "execution_count": 44,
   "id": "e21afc1e",
   "metadata": {},
   "outputs": [
    {
     "name": "stdout",
     "output_type": "stream",
     "text": [
      "Testing time:  0.013961315155029297\n"
     ]
    }
   ],
   "source": [
    "start_time = time.time()\n",
    "y_pred = dt.predict(X_test)\n",
    "end_time = time.time()\n",
    "print(\"Testing time: \", end_time-start_time)"
   ]
  },
  {
   "cell_type": "code",
   "execution_count": 45,
   "id": "7c61e774",
   "metadata": {},
   "outputs": [
    {
     "name": "stdout",
     "output_type": "stream",
     "text": [
      "Train score is: 0.8963896738957864\n",
      "Test score is: 0.8959166825427065\n"
     ]
    }
   ],
   "source": [
    "print(\"Train score is:\", dt.score(X_train, y_train))\n",
    "print(\"Test score is:\", dt.score(X_test, y_test))"
   ]
  },
  {
   "cell_type": "code",
   "execution_count": 46,
   "id": "1257ad73",
   "metadata": {},
   "outputs": [
    {
     "name": "stdout",
     "output_type": "stream",
     "text": [
      "DecisionTree-Classifier Set-Accuracy is  89.59166825427064\n"
     ]
    }
   ],
   "source": [
    "dt_ac = accuracy_score(y_test, y_pred)*100 # calculating accuracy of predicted data\n",
    "print(\"DecisionTree-Classifier Set-Accuracy is \", dt_ac)"
   ]
  },
  {
   "cell_type": "markdown",
   "id": "9987a0c9",
   "metadata": {},
   "source": [
    "# LSVM (Multi-class Classification)"
   ]
  },
  {
   "cell_type": "code",
   "execution_count": 47,
   "id": "a92391b7",
   "metadata": {},
   "outputs": [],
   "source": [
    "from sklearn.svm import SVC"
   ]
  },
  {
   "cell_type": "code",
   "execution_count": 48,
   "id": "9c6d7e02",
   "metadata": {},
   "outputs": [
    {
     "name": "stdout",
     "output_type": "stream",
     "text": [
      "Training time:  201.61552095413208\n"
     ]
    }
   ],
   "source": [
    "lsvm=SVC(kernel='linear',gamma='auto')\n",
    "lsvm.fit(X_train,y_train) \n",
    "start_time = time.time()\n",
    "lsvm.fit(X_train, y_train)\n",
    "end_time = time.time()\n",
    "print(\"Training time: \", end_time-start_time)"
   ]
  },
  {
   "cell_type": "code",
   "execution_count": 49,
   "id": "6ff945d5",
   "metadata": {},
   "outputs": [
    {
     "name": "stdout",
     "output_type": "stream",
     "text": [
      "Testing time:  22.26730465888977\n"
     ]
    }
   ],
   "source": [
    "start_time = time.time()\n",
    "y_pred = lsvm.predict(X_test)\n",
    "end_time = time.time()\n",
    "print(\"Testing time: \", end_time-start_time)"
   ]
  },
  {
   "cell_type": "code",
   "execution_count": 50,
   "id": "4d6d7fa2",
   "metadata": {},
   "outputs": [
    {
     "name": "stdout",
     "output_type": "stream",
     "text": [
      "Train score is: 0.9538945162417045\n",
      "Test score is: 0.9524988886772083\n"
     ]
    }
   ],
   "source": [
    "print(\"Train score is:\", lsvm.score(X_train, y_train))\n",
    "print(\"Test score is:\", lsvm.score(X_test, y_test))"
   ]
  },
  {
   "cell_type": "code",
   "execution_count": 51,
   "id": "31b12e94",
   "metadata": {},
   "outputs": [
    {
     "name": "stdout",
     "output_type": "stream",
     "text": [
      "LSVM-Classifier Set-Accuracy is  95.24988886772083\n"
     ]
    }
   ],
   "source": [
    "lsvm_ac = accuracy_score(y_test, y_pred)*100 # calculating accuracy of predicted data\n",
    "print(\"LSVM-Classifier Set-Accuracy is \", lsvm_ac)"
   ]
  },
  {
   "cell_type": "markdown",
   "id": "de7ac8d6",
   "metadata": {},
   "source": [
    "# Random Forest (Multi-class Classification)"
   ]
  },
  {
   "cell_type": "code",
   "execution_count": 52,
   "id": "8a314da9",
   "metadata": {},
   "outputs": [
    {
     "name": "stdout",
     "output_type": "stream",
     "text": [
      "Training Time of Random Forest is:  3.5554940700531006\n"
     ]
    }
   ],
   "source": [
    "from sklearn.ensemble import RandomForestClassifier\n",
    "\n",
    "rfv = RandomForestClassifier(n_estimators=30, criterion = 'entropy', random_state = 42)\n",
    "start_timeRF = time.time()\n",
    "rfv.fit(X_train, y_train)\n",
    "end_timeRF = time.time()\n",
    "print(\"Training Time of Random Forest is: \", end_timeRF - start_timeRF)"
   ]
  },
  {
   "cell_type": "code",
   "execution_count": 53,
   "id": "8c1adc6f",
   "metadata": {},
   "outputs": [
    {
     "name": "stdout",
     "output_type": "stream",
     "text": [
      "Testing time of Random Forest is::  0.1583855152130127\n"
     ]
    }
   ],
   "source": [
    "start_time = time.time()\n",
    "y_pred = rfv.predict(X_test)\n",
    "end_time = time.time()\n",
    "print(\"Testing time of Random Forest is:: \", end_time-start_time)"
   ]
  },
  {
   "cell_type": "code",
   "execution_count": 54,
   "id": "94e75f97",
   "metadata": {},
   "outputs": [
    {
     "name": "stdout",
     "output_type": "stream",
     "text": [
      "Accuracy score of Random Forest is: 98.469549755509\n"
     ]
    }
   ],
   "source": [
    "rf_ac=accuracy_score(y_test, y_pred)*100\n",
    "print(\"Accuracy score of Random Forest is:\", rf_ac)"
   ]
  },
  {
   "cell_type": "markdown",
   "id": "d3ccec94",
   "metadata": {},
   "source": [
    "# Comparison (Multi-class Classification)"
   ]
  },
  {
   "cell_type": "code",
   "execution_count": 55,
   "id": "f8f7f140",
   "metadata": {},
   "outputs": [
    {
     "data": {
      "image/png": "[encoded data removed]",
      "text/plain": [
       "<Figure size 432x288 with 1 Axes>"
      ]
     },
     "metadata": {
      "needs_background": "light"
     },
     "output_type": "display_data"
    }
   ],
   "source": [
    "names = ['LSVM', 'RF', 'GNB', 'DT', 'LR','KNN']\n",
    "values = [lsvm_ac,rf_ac,gnb_ac,dt_ac,lr_ac,knn_ac]\n",
    "plt.bar(names, values)\n",
    "plt.xlabel(\"Classifying Algorithm\")\n",
    "plt.ylabel(\"Accuracy Score\")\n",
    "plt.title(\"Accuracy Score vs Algorithm used(Multi-class)\")\n",
    "plt.show()"
   ]
  },
  {
   "cell_type": "code",
   "execution_count": null,
   "id": "7166cc97",
   "metadata": {},
   "outputs": [],
   "source": []
  }
 ],
 "metadata": {
  "kernelspec": {
   "display_name": "Python 3",
   "language": "python",
   "name": "python3"
  },
  "language_info": {
   "codemirror_mode": {
    "name": "ipython",
    "version": 3
   },
   "file_extension": ".py",
   "mimetype": "text/x-python",
   "name": "python",
   "nbconvert_exporter": "python",
   "pygments_lexer": "ipython3",
   "version": "3.8.8"
  }
 },
 "nbformat": 4,
 "nbformat_minor": 5
}
